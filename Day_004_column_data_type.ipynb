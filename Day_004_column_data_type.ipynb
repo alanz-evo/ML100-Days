{
 "cells": [
  {
   "cell_type": "code",
   "execution_count": 1,
   "metadata": {
    "colab": {},
    "colab_type": "code",
    "id": "lh9gyloHVblR"
   },
   "outputs": [],
   "source": [
    "import os\n",
    "import numpy as np\n",
    "import pandas as pd"
   ]
  },
  {
   "cell_type": "code",
   "execution_count": 2,
   "metadata": {
    "colab": {},
    "colab_type": "code",
    "id": "z4iLB9cKVblV"
   },
   "outputs": [],
   "source": [
    "# 設定 data_path\n",
    "dir_data = './data/'\n",
    "f_app_train = os.path.join(dir_data, 'application_train.csv')\n",
    "f_app_test = os.path.join(dir_data, 'application_test.csv')\n",
    "\n",
    "app_train = pd.read_csv(f_app_train)\n",
    "app_test = pd.read_csv(f_app_test)"
   ]
  },
  {
   "cell_type": "markdown",
   "metadata": {
    "colab_type": "text",
    "id": "-LNS2pOoVblX"
   },
   "source": [
    "檢視資料中各個欄位類型的數量"
   ]
  },
  {
   "cell_type": "code",
   "execution_count": 3,
   "metadata": {
    "colab": {},
    "colab_type": "code",
    "id": "NvxV5-OzVblX",
    "outputId": "9bf04bf8-6e24-408a-d441-73caf888623b"
   },
   "outputs": [
    {
     "data": {
      "text/plain": [
       "float64    65\n",
       "int64      41\n",
       "object     16\n",
       "dtype: int64"
      ]
     },
     "execution_count": 3,
     "metadata": {},
     "output_type": "execute_result"
    }
   ],
   "source": [
    "app_train.dtypes.value_counts()"
   ]
  },
  {
   "cell_type": "markdown",
   "metadata": {
    "colab_type": "text",
    "id": "uzkefhdIVblc"
   },
   "source": [
    "檢視資料中類別型欄位各自類別的數量"
   ]
  },
  {
   "cell_type": "code",
   "execution_count": 10,
   "metadata": {},
   "outputs": [
    {
     "name": "stdout",
     "output_type": "stream",
     "text": [
      "       NAME_CONTRACT_TYPE CODE_GENDER FLAG_OWN_CAR FLAG_OWN_REALTY  \\\n",
      "0              Cash loans           M            N               Y   \n",
      "1              Cash loans           F            N               N   \n",
      "2         Revolving loans           M            Y               Y   \n",
      "3              Cash loans           F            N               Y   \n",
      "4              Cash loans           M            N               Y   \n",
      "5              Cash loans           M            N               Y   \n",
      "6              Cash loans           F            Y               Y   \n",
      "7              Cash loans           M            Y               Y   \n",
      "8              Cash loans           F            N               Y   \n",
      "9         Revolving loans           M            N               Y   \n",
      "10             Cash loans           F            N               Y   \n",
      "11             Cash loans           F            N               Y   \n",
      "12             Cash loans           F            N               Y   \n",
      "13             Cash loans           M            Y               N   \n",
      "14             Cash loans           F            N               Y   \n",
      "15             Cash loans           M            Y               Y   \n",
      "16             Cash loans           M            N               N   \n",
      "17        Revolving loans           F            N               Y   \n",
      "18        Revolving loans           F            N               Y   \n",
      "19             Cash loans           F            N               Y   \n",
      "20        Revolving loans           M            Y               Y   \n",
      "21             Cash loans           F            Y               Y   \n",
      "22             Cash loans           F            N               N   \n",
      "23             Cash loans           F            N               Y   \n",
      "24             Cash loans           M            Y               N   \n",
      "25             Cash loans           F            N               Y   \n",
      "26             Cash loans           F            N               Y   \n",
      "27             Cash loans           M            N               Y   \n",
      "28             Cash loans           M            Y               Y   \n",
      "29        Revolving loans           M            N               Y   \n",
      "...                   ...         ...          ...             ...   \n",
      "307481         Cash loans           M            N               Y   \n",
      "307482         Cash loans           F            Y               Y   \n",
      "307483         Cash loans           F            N               Y   \n",
      "307484         Cash loans           F            Y               N   \n",
      "307485    Revolving loans           F            N               Y   \n",
      "307486         Cash loans           F            Y               Y   \n",
      "307487         Cash loans           M            N               Y   \n",
      "307488         Cash loans           F            N               N   \n",
      "307489         Cash loans           F            N               Y   \n",
      "307490         Cash loans           M            N               Y   \n",
      "307491         Cash loans           M            Y               Y   \n",
      "307492         Cash loans           M            Y               Y   \n",
      "307493         Cash loans           F            N               Y   \n",
      "307494         Cash loans           M            Y               N   \n",
      "307495         Cash loans           M            Y               N   \n",
      "307496    Revolving loans           F            N               N   \n",
      "307497         Cash loans           F            Y               Y   \n",
      "307498         Cash loans           M            Y               Y   \n",
      "307499         Cash loans           F            N               Y   \n",
      "307500         Cash loans           F            N               Y   \n",
      "307501         Cash loans           F            N               Y   \n",
      "307502         Cash loans           F            N               Y   \n",
      "307503         Cash loans           F            N               Y   \n",
      "307504         Cash loans           F            N               Y   \n",
      "307505         Cash loans           F            N               Y   \n",
      "307506         Cash loans           M            N               N   \n",
      "307507         Cash loans           F            N               Y   \n",
      "307508         Cash loans           F            N               Y   \n",
      "307509         Cash loans           F            N               Y   \n",
      "307510         Cash loans           F            N               N   \n",
      "\n",
      "        NAME_TYPE_SUITE      NAME_INCOME_TYPE            NAME_EDUCATION_TYPE  \\\n",
      "0         Unaccompanied               Working  Secondary / secondary special   \n",
      "1                Family         State servant               Higher education   \n",
      "2         Unaccompanied               Working  Secondary / secondary special   \n",
      "3         Unaccompanied               Working  Secondary / secondary special   \n",
      "4         Unaccompanied               Working  Secondary / secondary special   \n",
      "5       Spouse, partner         State servant  Secondary / secondary special   \n",
      "6         Unaccompanied  Commercial associate               Higher education   \n",
      "7         Unaccompanied         State servant               Higher education   \n",
      "8              Children             Pensioner  Secondary / secondary special   \n",
      "9         Unaccompanied               Working  Secondary / secondary special   \n",
      "10        Unaccompanied               Working               Higher education   \n",
      "11             Children             Pensioner  Secondary / secondary special   \n",
      "12        Unaccompanied               Working  Secondary / secondary special   \n",
      "13        Unaccompanied               Working  Secondary / secondary special   \n",
      "14        Unaccompanied               Working  Secondary / secondary special   \n",
      "15               Family               Working  Secondary / secondary special   \n",
      "16        Unaccompanied               Working  Secondary / secondary special   \n",
      "17        Unaccompanied               Working  Secondary / secondary special   \n",
      "18              Other_A               Working  Secondary / secondary special   \n",
      "19        Unaccompanied         State servant               Higher education   \n",
      "20        Unaccompanied               Working  Secondary / secondary special   \n",
      "21        Unaccompanied  Commercial associate  Secondary / secondary special   \n",
      "22        Unaccompanied               Working  Secondary / secondary special   \n",
      "23        Unaccompanied             Pensioner  Secondary / secondary special   \n",
      "24        Unaccompanied               Working  Secondary / secondary special   \n",
      "25        Unaccompanied               Working  Secondary / secondary special   \n",
      "26        Unaccompanied               Working  Secondary / secondary special   \n",
      "27               Family               Working  Secondary / secondary special   \n",
      "28        Unaccompanied         State servant               Higher education   \n",
      "29        Unaccompanied               Working               Higher education   \n",
      "...                 ...                   ...                            ...   \n",
      "307481           Family               Working  Secondary / secondary special   \n",
      "307482    Unaccompanied  Commercial associate  Secondary / secondary special   \n",
      "307483    Unaccompanied             Pensioner  Secondary / secondary special   \n",
      "307484    Unaccompanied  Commercial associate  Secondary / secondary special   \n",
      "307485           Family               Working  Secondary / secondary special   \n",
      "307486    Unaccompanied  Commercial associate               Higher education   \n",
      "307487    Unaccompanied             Pensioner  Secondary / secondary special   \n",
      "307488    Unaccompanied         State servant               Higher education   \n",
      "307489    Unaccompanied  Commercial associate  Secondary / secondary special   \n",
      "307490    Unaccompanied  Commercial associate               Higher education   \n",
      "307491    Unaccompanied  Commercial associate  Secondary / secondary special   \n",
      "307492    Unaccompanied               Working  Secondary / secondary special   \n",
      "307493    Unaccompanied               Working  Secondary / secondary special   \n",
      "307494           Family  Commercial associate  Secondary / secondary special   \n",
      "307495    Unaccompanied               Working               Higher education   \n",
      "307496           Family               Working               Higher education   \n",
      "307497    Unaccompanied               Working  Secondary / secondary special   \n",
      "307498    Unaccompanied  Commercial associate  Secondary / secondary special   \n",
      "307499    Unaccompanied  Commercial associate  Secondary / secondary special   \n",
      "307500    Unaccompanied               Working               Higher education   \n",
      "307501    Unaccompanied  Commercial associate  Secondary / secondary special   \n",
      "307502    Unaccompanied               Working  Secondary / secondary special   \n",
      "307503    Unaccompanied  Commercial associate               Higher education   \n",
      "307504    Unaccompanied               Working  Secondary / secondary special   \n",
      "307505    Unaccompanied             Pensioner  Secondary / secondary special   \n",
      "307506    Unaccompanied               Working  Secondary / secondary special   \n",
      "307507    Unaccompanied             Pensioner  Secondary / secondary special   \n",
      "307508    Unaccompanied               Working               Higher education   \n",
      "307509    Unaccompanied  Commercial associate  Secondary / secondary special   \n",
      "307510    Unaccompanied  Commercial associate               Higher education   \n",
      "\n",
      "          NAME_FAMILY_STATUS  NAME_HOUSING_TYPE        OCCUPATION_TYPE  \\\n",
      "0       Single / not married  House / apartment               Laborers   \n",
      "1                    Married  House / apartment             Core staff   \n",
      "2       Single / not married  House / apartment               Laborers   \n",
      "3             Civil marriage  House / apartment               Laborers   \n",
      "4       Single / not married  House / apartment             Core staff   \n",
      "5                    Married  House / apartment               Laborers   \n",
      "6                    Married  House / apartment            Accountants   \n",
      "7                    Married  House / apartment               Managers   \n",
      "8                    Married  House / apartment                    NaN   \n",
      "9       Single / not married  House / apartment               Laborers   \n",
      "10                   Married  House / apartment             Core staff   \n",
      "11                   Married  House / apartment                    NaN   \n",
      "12                   Married  House / apartment               Laborers   \n",
      "13                   Married  House / apartment                Drivers   \n",
      "14                   Married  House / apartment               Laborers   \n",
      "15      Single / not married   Rented apartment               Laborers   \n",
      "16                   Married  House / apartment                Drivers   \n",
      "17                   Married  House / apartment               Laborers   \n",
      "18                     Widow  House / apartment               Laborers   \n",
      "19      Single / not married  House / apartment             Core staff   \n",
      "20                   Married  House / apartment               Laborers   \n",
      "21                   Married  House / apartment            Sales staff   \n",
      "22                   Married   Rented apartment            Sales staff   \n",
      "23                   Married  House / apartment                    NaN   \n",
      "24                   Married  House / apartment                Drivers   \n",
      "25                   Married  House / apartment         Cleaning staff   \n",
      "26                     Widow  House / apartment          Cooking staff   \n",
      "27                   Married  House / apartment               Laborers   \n",
      "28      Single / not married  House / apartment                    NaN   \n",
      "29      Single / not married       With parents               Laborers   \n",
      "...                      ...                ...                    ...   \n",
      "307481               Married  House / apartment               Managers   \n",
      "307482               Married  House / apartment               Managers   \n",
      "307483             Separated  House / apartment                    NaN   \n",
      "307484               Married   Rented apartment               Managers   \n",
      "307485             Separated       With parents            Sales staff   \n",
      "307486        Civil marriage  House / apartment                    NaN   \n",
      "307487               Married  House / apartment                    NaN   \n",
      "307488  Single / not married  House / apartment             Core staff   \n",
      "307489        Civil marriage  House / apartment            Sales staff   \n",
      "307490  Single / not married  House / apartment               Laborers   \n",
      "307491               Married  House / apartment                Drivers   \n",
      "307492               Married  House / apartment            Sales staff   \n",
      "307493               Married  House / apartment         Security staff   \n",
      "307494               Married  House / apartment                Drivers   \n",
      "307495               Married  House / apartment  High skill tech staff   \n",
      "307496               Married  House / apartment          Cooking staff   \n",
      "307497               Married  House / apartment            Sales staff   \n",
      "307498               Married  House / apartment               Laborers   \n",
      "307499               Married  House / apartment         Medicine staff   \n",
      "307500               Married  House / apartment                    NaN   \n",
      "307501               Married  House / apartment     Low-skill Laborers   \n",
      "307502               Married  House / apartment               Laborers   \n",
      "307503  Single / not married  House / apartment             Core staff   \n",
      "307504             Separated  House / apartment            Sales staff   \n",
      "307505  Single / not married  House / apartment                    NaN   \n",
      "307506             Separated       With parents            Sales staff   \n",
      "307507                 Widow  House / apartment                    NaN   \n",
      "307508             Separated  House / apartment               Managers   \n",
      "307509               Married  House / apartment               Laborers   \n",
      "307510               Married  House / apartment               Laborers   \n",
      "\n",
      "       WEEKDAY_APPR_PROCESS_START       ORGANIZATION_TYPE FONDKAPREMONT_MODE  \\\n",
      "0                       WEDNESDAY  Business Entity Type 3   reg oper account   \n",
      "1                          MONDAY                  School   reg oper account   \n",
      "2                          MONDAY              Government                NaN   \n",
      "3                       WEDNESDAY  Business Entity Type 3                NaN   \n",
      "4                        THURSDAY                Religion                NaN   \n",
      "5                       WEDNESDAY                   Other                NaN   \n",
      "6                          SUNDAY  Business Entity Type 3                NaN   \n",
      "7                          MONDAY                   Other                NaN   \n",
      "8                       WEDNESDAY                     XNA                NaN   \n",
      "9                        THURSDAY             Electricity                NaN   \n",
      "10                       SATURDAY                Medicine                NaN   \n",
      "11                         FRIDAY                     XNA                NaN   \n",
      "12                         FRIDAY  Business Entity Type 2   reg oper account   \n",
      "13                       THURSDAY           Self-employed   reg oper account   \n",
      "14                         MONDAY       Transport: type 2   reg oper account   \n",
      "15                       SATURDAY  Business Entity Type 2                NaN   \n",
      "16                       THURSDAY              Government                NaN   \n",
      "17                         MONDAY            Construction                NaN   \n",
      "18                         FRIDAY                 Housing   reg oper account   \n",
      "19                         MONDAY            Kindergarten                NaN   \n",
      "20                         FRIDAY           Self-employed   reg oper account   \n",
      "21                         MONDAY           Trade: type 7                NaN   \n",
      "22                       THURSDAY           Self-employed   reg oper account   \n",
      "23                         FRIDAY                     XNA   org spec account   \n",
      "24                       THURSDAY  Business Entity Type 3   reg oper account   \n",
      "25                       SATURDAY  Business Entity Type 3   reg oper account   \n",
      "26                         MONDAY  Business Entity Type 3                NaN   \n",
      "27                       SATURDAY       Industry: type 11                NaN   \n",
      "28                      WEDNESDAY                Military                NaN   \n",
      "29                        TUESDAY  Business Entity Type 3   reg oper account   \n",
      "...                           ...                     ...                ...   \n",
      "307481                     FRIDAY  Business Entity Type 3                NaN   \n",
      "307482                   THURSDAY                 Telecom      not specified   \n",
      "307483                     MONDAY                     XNA   reg oper account   \n",
      "307484                     MONDAY  Business Entity Type 3                NaN   \n",
      "307485                   SATURDAY  Business Entity Type 3                NaN   \n",
      "307486                   SATURDAY  Business Entity Type 2                NaN   \n",
      "307487                  WEDNESDAY                     XNA                NaN   \n",
      "307488                  WEDNESDAY              Government                NaN   \n",
      "307489                     FRIDAY  Business Entity Type 3   reg oper account   \n",
      "307490                   SATURDAY  Business Entity Type 1                NaN   \n",
      "307491                   SATURDAY           Self-employed                NaN   \n",
      "307492                     FRIDAY           Self-employed                NaN   \n",
      "307493                     MONDAY                  School                NaN   \n",
      "307494                     MONDAY           Self-employed                NaN   \n",
      "307495                  WEDNESDAY  Business Entity Type 3   org spec account   \n",
      "307496                   THURSDAY           Self-employed                NaN   \n",
      "307497                   THURSDAY           Trade: type 7                NaN   \n",
      "307498                     MONDAY            Construction                NaN   \n",
      "307499                    TUESDAY                Medicine                NaN   \n",
      "307500                     FRIDAY  Business Entity Type 3                NaN   \n",
      "307501                  WEDNESDAY        Industry: type 1                NaN   \n",
      "307502                     MONDAY                  School                NaN   \n",
      "307503                   SATURDAY                    Bank                NaN   \n",
      "307504                  WEDNESDAY           Self-employed                NaN   \n",
      "307505                     MONDAY                     XNA   reg oper account   \n",
      "307506                   THURSDAY                Services   reg oper account   \n",
      "307507                     MONDAY                     XNA   reg oper account   \n",
      "307508                   THURSDAY                  School   reg oper account   \n",
      "307509                  WEDNESDAY  Business Entity Type 1                NaN   \n",
      "307510                   THURSDAY  Business Entity Type 3                NaN   \n",
      "\n",
      "        HOUSETYPE_MODE WALLSMATERIAL_MODE EMERGENCYSTATE_MODE  \n",
      "0       block of flats       Stone, brick                  No  \n",
      "1       block of flats              Block                  No  \n",
      "2                  NaN                NaN                 NaN  \n",
      "3                  NaN                NaN                 NaN  \n",
      "4                  NaN                NaN                 NaN  \n",
      "5                  NaN                NaN                 NaN  \n",
      "6                  NaN                NaN                 NaN  \n",
      "7                  NaN                NaN                 NaN  \n",
      "8                  NaN                NaN                 NaN  \n",
      "9                  NaN                NaN                 NaN  \n",
      "10                 NaN                NaN                 NaN  \n",
      "11                 NaN                NaN                 NaN  \n",
      "12      block of flats                NaN                  No  \n",
      "13      block of flats              Panel                  No  \n",
      "14      block of flats              Panel                  No  \n",
      "15                 NaN                NaN                 NaN  \n",
      "16                 NaN                NaN                 NaN  \n",
      "17                 NaN                NaN                 NaN  \n",
      "18      block of flats       Stone, brick                  No  \n",
      "19                 NaN                NaN                 NaN  \n",
      "20      block of flats       Stone, brick                  No  \n",
      "21                 NaN                NaN                 NaN  \n",
      "22      block of flats              Panel                  No  \n",
      "23      block of flats              Mixed                  No  \n",
      "24      block of flats              Panel                  No  \n",
      "25      block of flats       Stone, brick                  No  \n",
      "26      block of flats             Wooden                 Yes  \n",
      "27                 NaN                NaN                 NaN  \n",
      "28                 NaN                NaN                 NaN  \n",
      "29      block of flats              Panel                  No  \n",
      "...                ...                ...                 ...  \n",
      "307481             NaN                NaN                 NaN  \n",
      "307482  block of flats              Block                  No  \n",
      "307483  block of flats       Stone, brick                  No  \n",
      "307484             NaN                NaN                 NaN  \n",
      "307485             NaN                NaN                 NaN  \n",
      "307486  block of flats              Panel                  No  \n",
      "307487             NaN                NaN                 NaN  \n",
      "307488             NaN                NaN                  No  \n",
      "307489  block of flats       Stone, brick                 Yes  \n",
      "307490             NaN                NaN                 NaN  \n",
      "307491             NaN                NaN                 NaN  \n",
      "307492             NaN                NaN                 NaN  \n",
      "307493             NaN                NaN                 NaN  \n",
      "307494             NaN                NaN                 NaN  \n",
      "307495  block of flats              Panel                  No  \n",
      "307496             NaN                NaN                 NaN  \n",
      "307497             NaN                NaN                 NaN  \n",
      "307498  block of flats              Panel                  No  \n",
      "307499             NaN                NaN                 NaN  \n",
      "307500  block of flats              Panel                  No  \n",
      "307501  block of flats       Stone, brick                  No  \n",
      "307502             NaN                NaN                 NaN  \n",
      "307503             NaN                NaN                 NaN  \n",
      "307504             NaN                NaN                 NaN  \n",
      "307505  block of flats              Panel                  No  \n",
      "307506  block of flats       Stone, brick                  No  \n",
      "307507  block of flats       Stone, brick                  No  \n",
      "307508  block of flats              Panel                  No  \n",
      "307509  block of flats       Stone, brick                  No  \n",
      "307510  block of flats              Panel                  No  \n",
      "\n",
      "[307511 rows x 16 columns]\n"
     ]
    }
   ],
   "source": [
    "print(app_train.select_dtypes(include=[\"object\"]))"
   ]
  },
  {
   "cell_type": "code",
   "execution_count": 12,
   "metadata": {
    "colab": {},
    "colab_type": "code",
    "id": "Yf16HFmgVblc",
    "outputId": "d0d39d02-1ffb-4238-df40-0e67b0c123b0"
   },
   "outputs": [
    {
     "data": {
      "text/plain": [
       "NAME_CONTRACT_TYPE             2\n",
       "CODE_GENDER                    3\n",
       "FLAG_OWN_CAR                   2\n",
       "FLAG_OWN_REALTY                2\n",
       "NAME_TYPE_SUITE                7\n",
       "NAME_INCOME_TYPE               8\n",
       "NAME_EDUCATION_TYPE            5\n",
       "NAME_FAMILY_STATUS             6\n",
       "NAME_HOUSING_TYPE              6\n",
       "OCCUPATION_TYPE               18\n",
       "WEEKDAY_APPR_PROCESS_START     7\n",
       "ORGANIZATION_TYPE             58\n",
       "FONDKAPREMONT_MODE             4\n",
       "HOUSETYPE_MODE                 3\n",
       "WALLSMATERIAL_MODE             7\n",
       "EMERGENCYSTATE_MODE            2\n",
       "dtype: int64"
      ]
     },
     "execution_count": 12,
     "metadata": {},
     "output_type": "execute_result"
    }
   ],
   "source": [
    "app_train.select_dtypes(include=[\"object\"]).apply(pd.Series.nunique, axis = 0)"
   ]
  },
  {
   "cell_type": "markdown",
   "metadata": {
    "colab_type": "text",
    "id": "P7RU9oyvVblg"
   },
   "source": [
    "#### Label encoding\n",
    "有仔細閱讀[參考資料](https://medium.com/@contactsunny/label-encoder-vs-one-hot-encoder-in-machine-learning-3fc273365621)的人可以發現，Label encoding 的表示方式會讓同一個欄位底下的類別之間有大小關係 (0<1<2<...)，所以在這裡我們只對有類別數量小於等於 2 的類別型欄位示範使用 Label encoding，但不表示這樣處理是最好的，一切取決於欄位本身的意義適合哪一種表示方法"
   ]
  },
  {
   "cell_type": "code",
   "execution_count": 13,
   "metadata": {
    "colab": {},
    "colab_type": "code",
    "id": "mmvKPGtgVblg"
   },
   "outputs": [],
   "source": [
    "from sklearn.preprocessing import LabelEncoder"
   ]
  },
  {
   "cell_type": "code",
   "execution_count": 14,
   "metadata": {
    "colab": {},
    "colab_type": "code",
    "id": "bhsQcnbrVblj",
    "outputId": "36f5888f-09fd-4d92-de58-74041808aee2"
   },
   "outputs": [
    {
     "name": "stdout",
     "output_type": "stream",
     "text": [
      "3 columns were label encoded.\n"
     ]
    }
   ],
   "source": [
    "# Create a label encoder object\n",
    "le = LabelEncoder()\n",
    "le_count = 0\n",
    "\n",
    "# Iterate through the columns\n",
    "for col in app_train:\n",
    "    if app_train[col].dtype == 'object':\n",
    "        # If 2 or fewer unique categories\n",
    "        if len(list(app_train[col].unique())) <= 2:\n",
    "            # Train on the training data\n",
    "            le.fit(app_train[col])\n",
    "            # Transform both training and testing data\n",
    "            app_train[col] = le.transform(app_train[col])\n",
    "            app_test[col] = le.transform(app_test[col])\n",
    "            \n",
    "            # Keep track of how many columns were label encoded\n",
    "            le_count += 1\n",
    "            \n",
    "print('%d columns were label encoded.' % le_count)"
   ]
  },
  {
   "cell_type": "markdown",
   "metadata": {
    "colab_type": "text",
    "id": "fZ14f-GpVbll"
   },
   "source": [
    "#### One Hot encoding\n",
    "pandas 中的 one hot encoding 非常方便，一行程式碼就搞定"
   ]
  },
  {
   "cell_type": "code",
   "execution_count": 7,
   "metadata": {
    "colab": {},
    "colab_type": "code",
    "id": "1O-M3EdDVblm",
    "outputId": "93ac010f-a46c-426e-a83b-64ca6a39a8db"
   },
   "outputs": [
    {
     "name": "stdout",
     "output_type": "stream",
     "text": [
      "0    0\n",
      "1    1\n",
      "2    0\n",
      "3    1\n",
      "4    0\n",
      "Name: CODE_GENDER_F, dtype: uint8\n",
      "0    1\n",
      "1    0\n",
      "2    1\n",
      "3    0\n",
      "4    1\n",
      "Name: CODE_GENDER_M, dtype: uint8\n",
      "0    0\n",
      "1    0\n",
      "2    0\n",
      "3    0\n",
      "4    0\n",
      "Name: NAME_EDUCATION_TYPE_Academic degree, dtype: uint8\n"
     ]
    }
   ],
   "source": [
    "app_train = pd.get_dummies(app_train)\n",
    "app_test = pd.get_dummies(app_test)\n",
    "\n",
    "print(app_train['CODE_GENDER_F'].head())\n",
    "print(app_train['CODE_GENDER_M'].head())\n",
    "print(app_train['NAME_EDUCATION_TYPE_Academic degree'].head())"
   ]
  },
  {
   "cell_type": "markdown",
   "metadata": {
    "colab_type": "text",
    "id": "PjD5fHUfVblp"
   },
   "source": [
    "可以觀察到原來的類別型欄位都轉為 0/1 了"
   ]
  },
  {
   "cell_type": "markdown",
   "metadata": {
    "colab": {},
    "colab_type": "code",
    "id": "d5IeEcPVVblq"
   },
   "source": [
    "## 作業\n",
    "將下列部分資料片段 sub_train 使用 One Hot encoding, 並觀察轉換前後的欄位數量 (使用 shape) 與欄位名稱 (使用 head) 變化"
   ]
  },
  {
   "cell_type": "code",
   "execution_count": 8,
   "metadata": {},
   "outputs": [
    {
     "name": "stdout",
     "output_type": "stream",
     "text": [
      "(307511, 1)\n"
     ]
    },
    {
     "data": {
      "text/html": [
       "<div>\n",
       "<style scoped>\n",
       "    .dataframe tbody tr th:only-of-type {\n",
       "        vertical-align: middle;\n",
       "    }\n",
       "\n",
       "    .dataframe tbody tr th {\n",
       "        vertical-align: top;\n",
       "    }\n",
       "\n",
       "    .dataframe thead th {\n",
       "        text-align: right;\n",
       "    }\n",
       "</style>\n",
       "<table border=\"1\" class=\"dataframe\">\n",
       "  <thead>\n",
       "    <tr style=\"text-align: right;\">\n",
       "      <th></th>\n",
       "      <th>WEEKDAY_APPR_PROCESS_START</th>\n",
       "    </tr>\n",
       "  </thead>\n",
       "  <tbody>\n",
       "    <tr>\n",
       "      <th>0</th>\n",
       "      <td>WEDNESDAY</td>\n",
       "    </tr>\n",
       "    <tr>\n",
       "      <th>1</th>\n",
       "      <td>MONDAY</td>\n",
       "    </tr>\n",
       "    <tr>\n",
       "      <th>2</th>\n",
       "      <td>MONDAY</td>\n",
       "    </tr>\n",
       "    <tr>\n",
       "      <th>3</th>\n",
       "      <td>WEDNESDAY</td>\n",
       "    </tr>\n",
       "    <tr>\n",
       "      <th>4</th>\n",
       "      <td>THURSDAY</td>\n",
       "    </tr>\n",
       "  </tbody>\n",
       "</table>\n",
       "</div>"
      ],
      "text/plain": [
       "  WEEKDAY_APPR_PROCESS_START\n",
       "0                  WEDNESDAY\n",
       "1                     MONDAY\n",
       "2                     MONDAY\n",
       "3                  WEDNESDAY\n",
       "4                   THURSDAY"
      ]
     },
     "execution_count": 8,
     "metadata": {},
     "output_type": "execute_result"
    }
   ],
   "source": [
    "app_train = pd.read_csv(f_app_train)\n",
    "sub_train = pd.DataFrame(app_train['WEEKDAY_APPR_PROCESS_START'])\n",
    "print(sub_train.shape)\n",
    "sub_train.head()"
   ]
  },
  {
   "cell_type": "code",
   "execution_count": null,
   "metadata": {
    "collapsed": true
   },
   "outputs": [],
   "source": [
    "\"\"\"\n",
    "Your Code Here\n",
    "\"\"\""
   ]
  }
 ],
 "metadata": {
  "colab": {
   "name": "Day_004_column_data_type.ipynb",
   "provenance": [],
   "version": "0.3.2"
  },
  "kernelspec": {
   "display_name": "Python 3",
   "language": "python",
   "name": "python3"
  },
  "language_info": {
   "codemirror_mode": {
    "name": "ipython",
    "version": 3
   },
   "file_extension": ".py",
   "mimetype": "text/x-python",
   "name": "python",
   "nbconvert_exporter": "python",
   "pygments_lexer": "ipython3",
   "version": "3.7.0"
  }
 },
 "nbformat": 4,
 "nbformat_minor": 1
}
